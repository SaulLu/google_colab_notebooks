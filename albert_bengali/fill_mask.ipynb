{
 "cells": [
  {
   "cell_type": "markdown",
   "metadata": {},
   "source": [
    "# Install packages"
   ]
  },
  {
   "cell_type": "code",
   "execution_count": 1,
   "metadata": {
    "scrolled": true
   },
   "outputs": [
    {
     "name": "stdout",
     "output_type": "stream",
     "text": [
      "Requirement already satisfied: transformers==4.6.0 in /home/lucile/Outils/anaconda3/lib/python3.8/site-packages (4.6.0)\n",
      "Requirement already satisfied: filelock in /home/lucile/.local/lib/python3.8/site-packages (from transformers==4.6.0) (3.0.12)\n",
      "Requirement already satisfied: requests in /home/lucile/Outils/anaconda3/lib/python3.8/site-packages (from transformers==4.6.0) (2.24.0)\n",
      "Requirement already satisfied: regex!=2019.12.17 in /home/lucile/.local/lib/python3.8/site-packages (from transformers==4.6.0) (2020.10.23)\n",
      "Requirement already satisfied: sacremoses in /home/lucile/.local/lib/python3.8/site-packages (from transformers==4.6.0) (0.0.43)\n",
      "Requirement already satisfied: tokenizers<0.11,>=0.10.1 in /home/lucile/Outils/anaconda3/lib/python3.8/site-packages (from transformers==4.6.0) (0.10.2)\n",
      "Requirement already satisfied: tqdm>=4.27 in /home/lucile/Outils/anaconda3/lib/python3.8/site-packages (from transformers==4.6.0) (4.49.0)\n",
      "Requirement already satisfied: huggingface-hub==0.0.8 in /home/lucile/Outils/anaconda3/lib/python3.8/site-packages (from transformers==4.6.0) (0.0.8)\n",
      "Requirement already satisfied: numpy>=1.17 in /home/lucile/Outils/anaconda3/lib/python3.8/site-packages (from transformers==4.6.0) (1.19.2)\n",
      "Requirement already satisfied: packaging in /home/lucile/.local/lib/python3.8/site-packages (from transformers==4.6.0) (20.4)\n",
      "Requirement already satisfied: chardet<4,>=3.0.2 in /home/lucile/Outils/anaconda3/lib/python3.8/site-packages (from requests->transformers==4.6.0) (3.0.4)\n",
      "Requirement already satisfied: urllib3!=1.25.0,!=1.25.1,<1.26,>=1.21.1 in /home/lucile/.local/lib/python3.8/site-packages (from requests->transformers==4.6.0) (1.25.7)\n",
      "Requirement already satisfied: idna<3,>=2.5 in /home/lucile/Outils/anaconda3/lib/python3.8/site-packages (from requests->transformers==4.6.0) (2.10)\n",
      "Requirement already satisfied: certifi>=2017.4.17 in /home/lucile/Outils/anaconda3/lib/python3.8/site-packages (from requests->transformers==4.6.0) (2020.6.20)\n",
      "Requirement already satisfied: joblib in /home/lucile/Outils/anaconda3/lib/python3.8/site-packages (from sacremoses->transformers==4.6.0) (0.17.0)\n",
      "Requirement already satisfied: click in /home/lucile/.local/lib/python3.8/site-packages (from sacremoses->transformers==4.6.0) (7.1.2)\n",
      "Requirement already satisfied: six in /home/lucile/Outils/anaconda3/lib/python3.8/site-packages (from sacremoses->transformers==4.6.0) (1.15.0)\n",
      "Requirement already satisfied: pyparsing>=2.0.2 in /home/lucile/.local/lib/python3.8/site-packages (from packaging->transformers==4.6.0) (2.4.7)\n"
     ]
    }
   ],
   "source": [
    "!pip install transformers==4.6.0"
   ]
  },
  {
   "cell_type": "code",
   "execution_count": 2,
   "metadata": {},
   "outputs": [
    {
     "name": "stdout",
     "output_type": "stream",
     "text": [
      "Requirement already satisfied: tokenizers==0.10.2 in /home/lucile/Outils/anaconda3/lib/python3.8/site-packages (0.10.2)\r\n"
     ]
    }
   ],
   "source": [
    "!pip install tokenizers==0.10.2"
   ]
  },
  {
   "cell_type": "markdown",
   "metadata": {},
   "source": [
    "# Test the performance of the last checkpoint on Fill Mask task\n",
    "\n",
    "The following code snippet allows to test the last checkpoint recorded during our collaborative training. You can change the `text` variable and see the token predicted by our model in the place of the `[MASK]` token."
   ]
  },
  {
   "cell_type": "code",
   "execution_count": 3,
   "metadata": {},
   "outputs": [],
   "source": [
    "from transformers import AlbertForMaskedLM, FillMaskPipeline, PreTrainedTokenizerFast"
   ]
  },
  {
   "cell_type": "code",
   "execution_count": 5,
   "metadata": {},
   "outputs": [
    {
     "name": "stderr",
     "output_type": "stream",
     "text": [
      "Some weights of the model checkpoint at Upload/bengali-albert were not used when initializing AlbertForMaskedLM: ['sop_classifier.classifier.weight', 'sop_classifier.classifier.bias']\n",
      "- This IS expected if you are initializing AlbertForMaskedLM from the checkpoint of a model trained on another task or with another architecture (e.g. initializing a BertForSequenceClassification model from a BertForPreTraining model).\n",
      "- This IS NOT expected if you are initializing AlbertForMaskedLM from the checkpoint of a model that you expect to be exactly identical (initializing a BertForSequenceClassification model from a BertForSequenceClassification model).\n"
     ]
    }
   ],
   "source": [
    "# Initialize tokenizer\n",
    "tokenizer = PreTrainedTokenizerFast.from_pretrained(\"SaulLu/bengali-tokenizer-v2\")\n",
    "\n",
    "# Initialize model\n",
    "model = AlbertForMaskedLM.from_pretrained(\"Upload/bengali-albert\")\n",
    "\n",
    "# Initialize pipeline\n",
    "pipeline = FillMaskPipeline(tokenizer=tokenizer, model=model)"
   ]
  },
  {
   "cell_type": "code",
   "execution_count": 6,
   "metadata": {},
   "outputs": [
    {
     "data": {
      "text/plain": [
       "[{'sequence': 'ধন্যবাদ। আপনার সাথে কথা বলতে ভালো লাগলো',\n",
       "  'score': 0.28910231590270996,\n",
       "  'token': 403,\n",
       "  'token_str': 'বলতে'},\n",
       " {'sequence': 'ধন্যবাদ। আপনার সাথে কথা হলে ভালো লাগলো',\n",
       "  'score': 0.09174645692110062,\n",
       "  'token': 177,\n",
       "  'token_str': 'হলে'},\n",
       " {'sequence': 'ধন্যবাদ। আপনার সাথে কথা করতে ভালো লাগলো',\n",
       "  'score': 0.07234039902687073,\n",
       "  'token': 45,\n",
       "  'token_str': 'করতে'},\n",
       " {'sequence': 'ধন্যবাদ। আপনার সাথে কথা করলে ভালো লাগলো',\n",
       "  'score': 0.05066966637969017,\n",
       "  'token': 387,\n",
       "  'token_str': 'করলে'},\n",
       " {'sequence': 'ধন্যবাদ। আপনার সাথে কথা লাগলে ভালো লাগলো',\n",
       "  'score': 0.02641388401389122,\n",
       "  'token': 7397,\n",
       "  'token_str': 'লাগলে'}]"
      ]
     },
     "execution_count": 6,
     "metadata": {},
     "output_type": "execute_result"
    }
   ],
   "source": [
    "raw_text = \"ধন্যবাদ। আপনার সাথে কথা [MASK] ভালো লাগলো\"  # Change me\n",
    "pipeline(raw_text)"
   ]
  }
 ],
 "metadata": {
  "kernelspec": {
   "display_name": "Python 3.7.4 64-bit ('base': conda)",
   "language": "python",
   "name": "python37464bitbaseconda4938c97578ab4f6a8eb3381faca6ed53"
  },
  "language_info": {
   "codemirror_mode": {
    "name": "ipython",
    "version": 3
   },
   "file_extension": ".py",
   "mimetype": "text/x-python",
   "name": "python",
   "nbconvert_exporter": "python",
   "pygments_lexer": "ipython3",
   "version": "3.8.5"
  }
 },
 "nbformat": 4,
 "nbformat_minor": 4
}
