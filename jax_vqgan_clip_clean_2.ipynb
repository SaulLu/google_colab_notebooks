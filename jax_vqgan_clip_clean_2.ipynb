{
  "nbformat": 4,
  "nbformat_minor": 2,
  "metadata": {
    "accelerator": "GPU",
    "colab": {
      "name": "jax_vqgan_clip_clean.ipynb",
      "provenance": [],
      "collapsed_sections": [],
      "include_colab_link": true
    },
    "kernelspec": {
      "display_name": "Python 3",
      "name": "python3"
    },
    "language_info": {
      "name": "python"
    }
  },
  "cells": [
    {
      "cell_type": "markdown",
      "source": [
        "<a href=\"https://colab.research.google.com/github/SaulLu/google_colab_notebooks/blob/main/jax_vqgan_clip_clean_2.ipynb\" target=\"_parent\"><img src=\"https://colab.research.google.com/assets/colab-badge.svg\" alt=\"Open In Colab\"/></a>"
      ],
      "metadata": {
        "id": "view-in-github",
        "colab_type": "text"
      }
    },
    {
      "cell_type": "code",
      "execution_count": 1,
      "source": [
        "# from google.colab import drive\n",
        "# drive.mount('/content/drive')"
      ],
      "outputs": [],
      "metadata": {
        "id": "piedfIG5JJrp"
      }
    },
    {
      "cell_type": "code",
      "execution_count": 2,
      "source": [
        "!nvidia-smi"
      ],
      "outputs": [
        {
          "output_type": "stream",
          "name": "stdout",
          "text": [
            "Tue Jul 13 15:27:16 2021       \n",
            "+-----------------------------------------------------------------------------+\n",
            "| NVIDIA-SMI 470.42.01    Driver Version: 460.32.03    CUDA Version: 11.2     |\n",
            "|-------------------------------+----------------------+----------------------+\n",
            "| GPU  Name        Persistence-M| Bus-Id        Disp.A | Volatile Uncorr. ECC |\n",
            "| Fan  Temp  Perf  Pwr:Usage/Cap|         Memory-Usage | GPU-Util  Compute M. |\n",
            "|                               |                      |               MIG M. |\n",
            "|===============================+======================+======================|\n",
            "|   0  Tesla T4            Off  | 00000000:00:04.0 Off |                    0 |\n",
            "| N/A   46C    P0    26W /  70W |      0MiB / 15109MiB |      0%      Default |\n",
            "|                               |                      |                  N/A |\n",
            "+-------------------------------+----------------------+----------------------+\n",
            "                                                                               \n",
            "+-----------------------------------------------------------------------------+\n",
            "| Processes:                                                                  |\n",
            "|  GPU   GI   CI        PID   Type   Process name                  GPU Memory |\n",
            "|        ID   ID                                                   Usage      |\n",
            "|=============================================================================|\n",
            "|  No running processes found                                                 |\n",
            "+-----------------------------------------------------------------------------+\n"
          ]
        }
      ],
      "metadata": {
        "colab": {
          "base_uri": "https://localhost:8080/"
        },
        "id": "HWBQjhusE8QO",
        "outputId": "494730c3-fbb3-4042-e6ae-d6dce42de07e"
      }
    },
    {
      "cell_type": "markdown",
      "source": [
        "# Profiling"
      ],
      "metadata": {
        "id": "BraPd0FsMj4d"
      }
    },
    {
      "cell_type": "markdown",
      "source": [
        "Install graphviz"
      ],
      "metadata": {
        "id": "Cs6SFoxVOonA"
      }
    },
    {
      "cell_type": "code",
      "execution_count": 3,
      "source": [
        "# !sudo apt install graphviz"
      ],
      "outputs": [],
      "metadata": {
        "id": "mscC_DcmOnl3"
      }
    },
    {
      "cell_type": "markdown",
      "source": [
        "Install go"
      ],
      "metadata": {
        "id": "20HolV8gOq5s"
      }
    },
    {
      "cell_type": "code",
      "execution_count": 4,
      "source": [
        "# !add-apt-repository ppa:longsleep/golang-backports -y\n",
        "# !apt update\n",
        "# !apt install golang-go\n",
        "# %env GOPATH=/root/go\n",
        "# !go get -u github.com/gopherdata/gophernotes\n",
        "# !cp ~/go/bin/gophernotes /usr/bin/\n",
        "# !mkdir /usr/local/share/jupyter/kernels/gophernotes\n",
        "# !cp ~/go/src/github.com/gopherdata/gophernotes/kernel/* \\\n",
        "#        /usr/local/share/jupyter/kernels/gophernotes"
      ],
      "outputs": [],
      "metadata": {
        "id": "oraqd_yGOiOd"
      }
    },
    {
      "cell_type": "markdown",
      "source": [
        "install profiler"
      ],
      "metadata": {
        "id": "-41R6NTUPRFr"
      }
    },
    {
      "cell_type": "code",
      "execution_count": 5,
      "source": [
        "# !go get -u github.com/google/pprof"
      ],
      "outputs": [],
      "metadata": {
        "id": "7Nl4hDfQMncS"
      }
    },
    {
      "cell_type": "markdown",
      "source": [
        "#Init"
      ],
      "metadata": {
        "id": "pXC_AgCwMkQk"
      }
    },
    {
      "cell_type": "code",
      "execution_count": 6,
      "source": [
        "!pip install git+https://github.com/SaulLu/vqgan-jax@create-package "
      ],
      "outputs": [
        {
          "output_type": "stream",
          "name": "stdout",
          "text": [
            "Collecting git+https://github.com/SaulLu/vqgan-jax@create-package\n",
            "  Cloning https://github.com/SaulLu/vqgan-jax (to revision create-package) to /tmp/pip-req-build-eesxj8rx\n",
            "  Running command git clone -q https://github.com/SaulLu/vqgan-jax /tmp/pip-req-build-eesxj8rx\n",
            "  Running command git checkout -b create-package --track origin/create-package\n",
            "  Switched to a new branch 'create-package'\n",
            "  Branch 'create-package' set up to track remote branch 'create-package' from 'origin'.\n",
            "Requirement already satisfied (use --upgrade to upgrade): vqgan-jax==0.0.1 from git+https://github.com/SaulLu/vqgan-jax@create-package in /usr/local/lib/python3.7/dist-packages\n",
            "Requirement already satisfied: flax in /usr/local/lib/python3.7/dist-packages (from vqgan-jax==0.0.1) (0.3.4)\n",
            "Requirement already satisfied: transformers in /usr/local/lib/python3.7/dist-packages (from vqgan-jax==0.0.1) (4.8.2)\n",
            "Requirement already satisfied: jax>=0.2.13 in /usr/local/lib/python3.7/dist-packages (from flax->vqgan-jax==0.0.1) (0.2.13)\n",
            "Requirement already satisfied: optax in /usr/local/lib/python3.7/dist-packages (from flax->vqgan-jax==0.0.1) (0.0.9)\n",
            "Requirement already satisfied: numpy>=1.12 in /usr/local/lib/python3.7/dist-packages (from flax->vqgan-jax==0.0.1) (1.19.5)\n",
            "Requirement already satisfied: matplotlib in /usr/local/lib/python3.7/dist-packages (from flax->vqgan-jax==0.0.1) (3.2.2)\n",
            "Requirement already satisfied: msgpack in /usr/local/lib/python3.7/dist-packages (from flax->vqgan-jax==0.0.1) (1.0.2)\n",
            "Requirement already satisfied: importlib-metadata; python_version < \"3.8\" in /usr/local/lib/python3.7/dist-packages (from transformers->vqgan-jax==0.0.1) (4.6.0)\n",
            "Requirement already satisfied: tqdm>=4.27 in /usr/local/lib/python3.7/dist-packages (from transformers->vqgan-jax==0.0.1) (4.41.1)\n",
            "Requirement already satisfied: requests in /usr/local/lib/python3.7/dist-packages (from transformers->vqgan-jax==0.0.1) (2.23.0)\n",
            "Requirement already satisfied: huggingface-hub==0.0.12 in /usr/local/lib/python3.7/dist-packages (from transformers->vqgan-jax==0.0.1) (0.0.12)\n",
            "Requirement already satisfied: tokenizers<0.11,>=0.10.1 in /usr/local/lib/python3.7/dist-packages (from transformers->vqgan-jax==0.0.1) (0.10.3)\n",
            "Requirement already satisfied: sacremoses in /usr/local/lib/python3.7/dist-packages (from transformers->vqgan-jax==0.0.1) (0.0.45)\n",
            "Requirement already satisfied: pyyaml in /usr/local/lib/python3.7/dist-packages (from transformers->vqgan-jax==0.0.1) (3.13)\n",
            "Requirement already satisfied: filelock in /usr/local/lib/python3.7/dist-packages (from transformers->vqgan-jax==0.0.1) (3.0.12)\n",
            "Requirement already satisfied: regex!=2019.12.17 in /usr/local/lib/python3.7/dist-packages (from transformers->vqgan-jax==0.0.1) (2019.12.20)\n",
            "Requirement already satisfied: packaging in /usr/local/lib/python3.7/dist-packages (from transformers->vqgan-jax==0.0.1) (20.9)\n",
            "Requirement already satisfied: opt-einsum in /usr/local/lib/python3.7/dist-packages (from jax>=0.2.13->flax->vqgan-jax==0.0.1) (3.3.0)\n",
            "Requirement already satisfied: absl-py in /usr/local/lib/python3.7/dist-packages (from jax>=0.2.13->flax->vqgan-jax==0.0.1) (0.12.0)\n",
            "Requirement already satisfied: jaxlib>=0.1.37 in /usr/local/lib/python3.7/dist-packages (from optax->flax->vqgan-jax==0.0.1) (0.1.66+cuda110)\n",
            "Requirement already satisfied: chex>=0.0.4 in /usr/local/lib/python3.7/dist-packages (from optax->flax->vqgan-jax==0.0.1) (0.0.8)\n",
            "Requirement already satisfied: pyparsing!=2.0.4,!=2.1.2,!=2.1.6,>=2.0.1 in /usr/local/lib/python3.7/dist-packages (from matplotlib->flax->vqgan-jax==0.0.1) (2.4.7)\n",
            "Requirement already satisfied: python-dateutil>=2.1 in /usr/local/lib/python3.7/dist-packages (from matplotlib->flax->vqgan-jax==0.0.1) (2.8.1)\n",
            "Requirement already satisfied: cycler>=0.10 in /usr/local/lib/python3.7/dist-packages (from matplotlib->flax->vqgan-jax==0.0.1) (0.10.0)\n",
            "Requirement already satisfied: kiwisolver>=1.0.1 in /usr/local/lib/python3.7/dist-packages (from matplotlib->flax->vqgan-jax==0.0.1) (1.3.1)\n",
            "Requirement already satisfied: zipp>=0.5 in /usr/local/lib/python3.7/dist-packages (from importlib-metadata; python_version < \"3.8\"->transformers->vqgan-jax==0.0.1) (3.4.1)\n",
            "Requirement already satisfied: typing-extensions>=3.6.4; python_version < \"3.8\" in /usr/local/lib/python3.7/dist-packages (from importlib-metadata; python_version < \"3.8\"->transformers->vqgan-jax==0.0.1) (3.7.4.3)\n",
            "Requirement already satisfied: chardet<4,>=3.0.2 in /usr/local/lib/python3.7/dist-packages (from requests->transformers->vqgan-jax==0.0.1) (3.0.4)\n",
            "Requirement already satisfied: urllib3!=1.25.0,!=1.25.1,<1.26,>=1.21.1 in /usr/local/lib/python3.7/dist-packages (from requests->transformers->vqgan-jax==0.0.1) (1.24.3)\n",
            "Requirement already satisfied: certifi>=2017.4.17 in /usr/local/lib/python3.7/dist-packages (from requests->transformers->vqgan-jax==0.0.1) (2021.5.30)\n",
            "Requirement already satisfied: idna<3,>=2.5 in /usr/local/lib/python3.7/dist-packages (from requests->transformers->vqgan-jax==0.0.1) (2.10)\n",
            "Requirement already satisfied: click in /usr/local/lib/python3.7/dist-packages (from sacremoses->transformers->vqgan-jax==0.0.1) (7.1.2)\n",
            "Requirement already satisfied: joblib in /usr/local/lib/python3.7/dist-packages (from sacremoses->transformers->vqgan-jax==0.0.1) (1.0.1)\n",
            "Requirement already satisfied: six in /usr/local/lib/python3.7/dist-packages (from sacremoses->transformers->vqgan-jax==0.0.1) (1.15.0)\n",
            "Requirement already satisfied: scipy in /usr/local/lib/python3.7/dist-packages (from jaxlib>=0.1.37->optax->flax->vqgan-jax==0.0.1) (1.4.1)\n",
            "Requirement already satisfied: flatbuffers in /usr/local/lib/python3.7/dist-packages (from jaxlib>=0.1.37->optax->flax->vqgan-jax==0.0.1) (1.12)\n",
            "Requirement already satisfied: dm-tree>=0.1.5 in /usr/local/lib/python3.7/dist-packages (from chex>=0.0.4->optax->flax->vqgan-jax==0.0.1) (0.1.6)\n",
            "Requirement already satisfied: toolz>=0.9.0 in /usr/local/lib/python3.7/dist-packages (from chex>=0.0.4->optax->flax->vqgan-jax==0.0.1) (0.11.1)\n",
            "Building wheels for collected packages: vqgan-jax\n",
            "  Building wheel for vqgan-jax (setup.py) ... \u001b[?25l\u001b[?25hdone\n",
            "  Created wheel for vqgan-jax: filename=vqgan_jax-0.0.1-cp37-none-any.whl size=7467 sha256=14c24e0906b5c04c306d37f012e79ac13589c67dc25d3163bf8ed2d6daa8a5f1\n",
            "  Stored in directory: /tmp/pip-ephem-wheel-cache-y2vn584a/wheels/81/fe/b0/d77c661ac2ddc2753719df436c8a6f744d0e23b569eb19d507\n",
            "Successfully built vqgan-jax\n"
          ]
        }
      ],
      "metadata": {
        "colab": {
          "base_uri": "https://localhost:8080/"
        },
        "id": "EpHjjSRmfZt9",
        "outputId": "165974da-fd7c-425b-fa6b-efeb74dbcd96"
      }
    },
    {
      "cell_type": "code",
      "execution_count": 7,
      "source": [
        "!pip install transformers ftfy wandb Pillow"
      ],
      "outputs": [
        {
          "output_type": "stream",
          "name": "stdout",
          "text": [
            "Requirement already satisfied: transformers in /usr/local/lib/python3.7/dist-packages (4.8.2)\n",
            "Requirement already satisfied: ftfy in /usr/local/lib/python3.7/dist-packages (6.0.3)\n",
            "Requirement already satisfied: wandb in /usr/local/lib/python3.7/dist-packages (0.10.33)\n",
            "Requirement already satisfied: Pillow in /usr/local/lib/python3.7/dist-packages (8.3.1)\n",
            "Requirement already satisfied: numpy>=1.17 in /usr/local/lib/python3.7/dist-packages (from transformers) (1.19.5)\n",
            "Requirement already satisfied: packaging in /usr/local/lib/python3.7/dist-packages (from transformers) (20.9)\n",
            "Requirement already satisfied: filelock in /usr/local/lib/python3.7/dist-packages (from transformers) (3.0.12)\n",
            "Requirement already satisfied: pyyaml in /usr/local/lib/python3.7/dist-packages (from transformers) (3.13)\n",
            "Requirement already satisfied: regex!=2019.12.17 in /usr/local/lib/python3.7/dist-packages (from transformers) (2019.12.20)\n",
            "Requirement already satisfied: requests in /usr/local/lib/python3.7/dist-packages (from transformers) (2.23.0)\n",
            "Requirement already satisfied: huggingface-hub==0.0.12 in /usr/local/lib/python3.7/dist-packages (from transformers) (0.0.12)\n",
            "Requirement already satisfied: importlib-metadata; python_version < \"3.8\" in /usr/local/lib/python3.7/dist-packages (from transformers) (4.6.0)\n",
            "Requirement already satisfied: sacremoses in /usr/local/lib/python3.7/dist-packages (from transformers) (0.0.45)\n",
            "Requirement already satisfied: tokenizers<0.11,>=0.10.1 in /usr/local/lib/python3.7/dist-packages (from transformers) (0.10.3)\n",
            "Requirement already satisfied: tqdm>=4.27 in /usr/local/lib/python3.7/dist-packages (from transformers) (4.41.1)\n",
            "Requirement already satisfied: wcwidth in /usr/local/lib/python3.7/dist-packages (from ftfy) (0.2.5)\n",
            "Requirement already satisfied: sentry-sdk>=0.4.0 in /usr/local/lib/python3.7/dist-packages (from wandb) (1.3.0)\n",
            "Requirement already satisfied: GitPython>=1.0.0 in /usr/local/lib/python3.7/dist-packages (from wandb) (3.1.18)\n",
            "Requirement already satisfied: subprocess32>=3.5.3 in /usr/local/lib/python3.7/dist-packages (from wandb) (3.5.4)\n",
            "Requirement already satisfied: protobuf>=3.12.0 in /usr/local/lib/python3.7/dist-packages (from wandb) (3.17.3)\n",
            "Requirement already satisfied: shortuuid>=0.5.0 in /usr/local/lib/python3.7/dist-packages (from wandb) (1.0.1)\n",
            "Requirement already satisfied: promise<3,>=2.0 in /usr/local/lib/python3.7/dist-packages (from wandb) (2.3)\n",
            "Requirement already satisfied: Click!=8.0.0,>=7.0 in /usr/local/lib/python3.7/dist-packages (from wandb) (7.1.2)\n",
            "Requirement already satisfied: docker-pycreds>=0.4.0 in /usr/local/lib/python3.7/dist-packages (from wandb) (0.4.0)\n",
            "Requirement already satisfied: pathtools in /usr/local/lib/python3.7/dist-packages (from wandb) (0.1.2)\n",
            "Requirement already satisfied: six>=1.13.0 in /usr/local/lib/python3.7/dist-packages (from wandb) (1.15.0)\n",
            "Requirement already satisfied: configparser>=3.8.1 in /usr/local/lib/python3.7/dist-packages (from wandb) (5.0.2)\n",
            "Requirement already satisfied: psutil>=5.0.0 in /usr/local/lib/python3.7/dist-packages (from wandb) (5.4.8)\n",
            "Requirement already satisfied: python-dateutil>=2.6.1 in /usr/local/lib/python3.7/dist-packages (from wandb) (2.8.1)\n",
            "Requirement already satisfied: pyparsing>=2.0.2 in /usr/local/lib/python3.7/dist-packages (from packaging->transformers) (2.4.7)\n",
            "Requirement already satisfied: urllib3!=1.25.0,!=1.25.1,<1.26,>=1.21.1 in /usr/local/lib/python3.7/dist-packages (from requests->transformers) (1.24.3)\n",
            "Requirement already satisfied: chardet<4,>=3.0.2 in /usr/local/lib/python3.7/dist-packages (from requests->transformers) (3.0.4)\n",
            "Requirement already satisfied: certifi>=2017.4.17 in /usr/local/lib/python3.7/dist-packages (from requests->transformers) (2021.5.30)\n",
            "Requirement already satisfied: idna<3,>=2.5 in /usr/local/lib/python3.7/dist-packages (from requests->transformers) (2.10)\n",
            "Requirement already satisfied: typing-extensions in /usr/local/lib/python3.7/dist-packages (from huggingface-hub==0.0.12->transformers) (3.7.4.3)\n",
            "Requirement already satisfied: zipp>=0.5 in /usr/local/lib/python3.7/dist-packages (from importlib-metadata; python_version < \"3.8\"->transformers) (3.4.1)\n",
            "Requirement already satisfied: joblib in /usr/local/lib/python3.7/dist-packages (from sacremoses->transformers) (1.0.1)\n",
            "Requirement already satisfied: gitdb<5,>=4.0.1 in /usr/local/lib/python3.7/dist-packages (from GitPython>=1.0.0->wandb) (4.0.7)\n",
            "Requirement already satisfied: smmap<5,>=3.0.1 in /usr/local/lib/python3.7/dist-packages (from gitdb<5,>=4.0.1->GitPython>=1.0.0->wandb) (4.0.0)\n"
          ]
        }
      ],
      "metadata": {
        "colab": {
          "base_uri": "https://localhost:8080/"
        },
        "id": "26wZ_RbOf2ku",
        "outputId": "7bd6b68c-92af-4c5e-ec60-3fc9b05371aa"
      }
    },
    {
      "cell_type": "code",
      "execution_count": 8,
      "source": [
        "!wandb login"
      ],
      "outputs": [
        {
          "output_type": "stream",
          "name": "stdout",
          "text": [
            "\u001b[34m\u001b[1mwandb\u001b[0m: Currently logged in as: \u001b[33msaullu\u001b[0m (use `wandb login --relogin` to force relogin)\n"
          ]
        }
      ],
      "metadata": {
        "colab": {
          "base_uri": "https://localhost:8080/"
        },
        "id": "TSY8Qoymj5lA",
        "outputId": "3abb3295-e67d-441d-e34c-3248e2820260"
      }
    },
    {
      "cell_type": "code",
      "execution_count": 9,
      "source": [
        "import wandb"
      ],
      "outputs": [],
      "metadata": {
        "id": "K6jeHWKuETwP"
      }
    },
    {
      "cell_type": "markdown",
      "source": [
        "# Core"
      ],
      "metadata": {
        "id": "nvqvrNjIUNsE"
      }
    },
    {
      "cell_type": "code",
      "execution_count": null,
      "source": [
        "import argparse\n",
        "import time\n",
        "from pathlib import Path\n",
        "from typing import Any, Callable\n",
        "\n",
        "import jax\n",
        "import jax.numpy as jnp\n",
        "import numpy as np\n",
        "import optax\n",
        "from flax import core, struct\n",
        "from flax.training.common_utils import get_metrics\n",
        "from jax import custom_vjp\n",
        "from PIL import Image\n",
        "from torchvision.transforms import functional as TF\n",
        "from transformers import (\n",
        "    CLIPFeatureExtractor,\n",
        "    CLIPProcessor,\n",
        "    CLIPTokenizer,\n",
        "    CLIPTokenizerFast,\n",
        "    FlaxCLIPModel,\n",
        "    is_tensorboard_available,\n",
        ")\n",
        "from vqgan_jax.modeling_flax_vqgan import VQModel\n",
        "\n",
        "\n",
        "class TrainState(struct.PyTreeNode):\n",
        "    \"\"\"Simple train state for the common case with a single Optax optimizer.\n",
        "\n",
        "    Synopsis::\n",
        "\n",
        "        state = TrainState.create(\n",
        "            apply_fn=model.apply,\n",
        "            params=variables['params'],\n",
        "            tx=tx)\n",
        "        grad_fn = jax.grad(make_loss_fn(state.apply_fn))\n",
        "        for batch in data:\n",
        "            grads = grad_fn(state.params, batch)\n",
        "            state = state.apply_gradients(grads=grads)\n",
        "\n",
        "    Note that you can easily extend this dataclass by subclassing it for storing\n",
        "    additional data (e.g. additional variable collections).\n",
        "\n",
        "    For more exotic usecases (e.g. multiple optimizers) it's probably best to\n",
        "    fork the class and modify it.\n",
        "\n",
        "    Args:\n",
        "        step: Counter starts at 0 and is incremented by every call to\n",
        "        `.apply_gradients()`.\n",
        "        apply_fn: Usually set to `model.apply()`. Kept in this dataclass for\n",
        "        convenience to have a shorter params list for the `train_step()` function\n",
        "        in your training loop.\n",
        "        params: The parameters to be updated by `tx` and used by `apply_fn`.\n",
        "        tx: An Optax gradient transformation.\n",
        "        opt_state: The state for `tx`.\n",
        "    \"\"\"\n",
        "\n",
        "    step: int\n",
        "    params: core.FrozenDict[str, Any]\n",
        "    tx: optax.GradientTransformation = struct.field(pytree_node=False)\n",
        "    opt_state: optax.OptState\n",
        "\n",
        "    def apply_gradients(self, *, grads, **kwargs):\n",
        "        \"\"\"Updates `step`, `params`, `opt_state` and `**kwargs` in return value.\n",
        "\n",
        "        Note that internally this function calls `.tx.update()` followed by a call\n",
        "        to `optax.apply_updates()` to update `params` and `opt_state`.\n",
        "\n",
        "        Args:\n",
        "        grads: Gradients that have the same pytree structure as `.params`.\n",
        "        **kwargs: Additional dataclass attributes that should be `.replace()`-ed.\n",
        "\n",
        "        Returns:\n",
        "        An updated instance of `self` with `step` incremented by one, `params`\n",
        "        and `opt_state` updated by applying `grads`, and additional attributes\n",
        "        replaced as specified by `kwargs`.\n",
        "        \"\"\"\n",
        "        updates, new_opt_state = self.tx.update(grads, self.opt_state, self.params)\n",
        "        new_params = optax.apply_updates(self.params, updates)\n",
        "        return self.replace(\n",
        "            step=self.step + 1,\n",
        "            params=new_params,\n",
        "            opt_state=new_opt_state,\n",
        "            **kwargs,\n",
        "        )\n",
        "\n",
        "    @classmethod\n",
        "    def create(cls, *, params, tx, **kwargs):\n",
        "        \"\"\"Creates a new instance with `step=0` and initialized `opt_state`.\"\"\"\n",
        "        opt_state = tx.init(params)\n",
        "        return cls(\n",
        "            step=0,\n",
        "            params=params,\n",
        "            tx=tx,\n",
        "            opt_state=opt_state,\n",
        "            **kwargs,\n",
        "        )\n",
        "\n",
        "\n",
        "@dataclass\n",
        "class ModelArguments:\n",
        "    \"\"\"\n",
        "    Arguments\n",
        "    \"\"\"\n",
        "    clip_model_name_or_path: Optional[str] = field(\n",
        "        default=\"openai/clip-vit-base-patch32\",\n",
        "        metadata={\n",
        "            \"help\": \"The model checkpoint for weights initialization of CLIP model.\"\n",
        "        },\n",
        "    )\n",
        "    vqgan_model_name_or_path: Optional[str] = field(\n",
        "        default=\"valhalla/vqgan-imagenet-f16-1024\",\n",
        "        metadata={\n",
        "            \"help\": \"The model checkpoint for weights initialization of VQGAN model.\"\n",
        "        },\n",
        "    )\n",
        "    model_type: Optional[str] = field(\n",
        "        default=None,\n",
        "        metadata={\"help\": \"If training from scratch, pass a model type from the list: \" + \", \".join(MODEL_TYPES)},\n",
        "    )\n",
        "    config_name: Optional[str] = field(\n",
        "        default=None, metadata={\"help\": \"Pretrained config name or path if not the same as model_name\"}\n",
        "    )\n",
        "    tokenizer_name: Optional[str] = field(\n",
        "        default=None, metadata={\"help\": \"Pretrained tokenizer name or path if not the same as model_name\"}\n",
        "    )\n",
        "    cache_dir: Optional[str] = field(\n",
        "        default=None, metadata={\"help\": \"Where do you want to store the pretrained models downloaded from s3\"}\n",
        "    )\n",
        "    use_fast_tokenizer: bool = field(\n",
        "        default=True,\n",
        "        metadata={\"help\": \"Whether to use one of the fast tokenizer (backed by the tokenizers library) or not.\"},\n",
        "    )\n",
        "    dtype: Optional[str] = field(\n",
        "        default=\"float32\",\n",
        "        metadata={\n",
        "            \"help\": \"Floating-point format in which the model weights should be initialized and trained. Choose one of `[float32, float16, bfloat16]`.\"\n",
        "        },\n",
        "    )\n",
        "\n",
        "@dataclass\n",
        "class TrainingArguments:\n",
        "    pass\n",
        "\n",
        "args = argparse.Namespace(\n",
        "    prompts=[\"superrealistic house in forest\"],\n",
        "    output_dir=\"logs\",\n",
        "    image_prompts=[],\n",
        "    noise_prompt_seeds=[],\n",
        "    noise_prompt_weights=[],\n",
        "    size=[480, 480],\n",
        "    init_image=None,\n",
        "    init_weight=0.0,\n",
        "    clip_model=\"openai/clip-vit-base-patch32\",  # change value\n",
        "    # vqgan_config='vqgan_imagenet_f16_1024.yaml',  # with model_path\n",
        "    vqgan_model=\"valhalla/vqgan-imagenet-f16-1024\",  # rename vqgan_checkpoint\n",
        "    step_size=0.05,\n",
        "    cutn=5,\n",
        "    cut_pow=1.0,\n",
        "    display_freq=50,\n",
        "    seed=0,\n",
        "    scale_min=1.0,\n",
        "    scale_max=1.0,\n",
        ")\n",
        "\n",
        "\n",
        "wandb.init(project=\"test-vqgan-clip\", config=args)\n",
        "\n",
        "\n",
        "model = VQModel.from_pretrained(args.vqgan_model)\n",
        "\n",
        "tokenizer = CLIPTokenizer.from_pretrained(args.clip_model)\n",
        "processor = CLIPProcessor.from_pretrained(args.clip_model)\n",
        "perceptor = FlaxCLIPModel.from_pretrained(args.clip_model)\n",
        "\n",
        "\n",
        "context_length = 77  # todo fix that\n",
        "\n",
        "\n",
        "cut_size = perceptor.config.vision_config.image_size  # perceptor.visual.input_resolution\n",
        "e_dim = model.config.embed_dim  # model.quantize.e_dim\n",
        "\n",
        "f = 2 ** (model.config.num_resolutions - 1)\n",
        "\n",
        "n_toks = model.config.n_embed\n",
        "toksX, toksY = args.size[0] // f, args.size[1] // f\n",
        "sideX, sideY = toksX * f, toksY * f\n",
        "\n",
        "z_min = jnp.min(model.params[\"quantize\"][\"embedding\"][\"embedding\"], axis=0)\n",
        "z_max = jnp.max(model.params[\"quantize\"][\"embedding\"][\"embedding\"], axis=0)\n",
        "\n",
        "\n",
        "def parse_prompt(prompt):\n",
        "    vals = prompt.rsplit(\":\", 2)\n",
        "    vals = vals + [\"\", \"1\", \"-inf\"][len(vals) :]\n",
        "    return vals[0], float(vals[1]), float(vals[2])\n",
        "\n",
        "\n",
        "texts = []\n",
        "for prompt in args.prompts:\n",
        "    txt, weight, stop = parse_prompt(prompt)\n",
        "    texts.append(txt)\n",
        "\n",
        "inputs = tokenizer(texts, padding=\"max_length\", max_length=context_length, return_tensors=\"jax\")\n",
        "inputs\n",
        "\n",
        "\n",
        "\n",
        "\n",
        "# f :: a -> b\n",
        "@custom_vjp\n",
        "def clip_with_grad(x):\n",
        "    return jnp.clip(x, a_min=0, a_max=1)\n",
        "\n",
        "\n",
        "# f_fwd :: a -> (b, c)\n",
        "def clip_with_grad_fwd(x):\n",
        "    return clip_with_grad(x), x\n",
        "\n",
        "\n",
        "# f_bwd :: (c, CT b) -> CT a\n",
        "def clip_with_grad_bwd(x, y_bar):\n",
        "    ans = clip_with_grad(x)\n",
        "    boolean = jnp.heaviside(y_bar * (x - ans), 1)\n",
        "    ans_dot = y_bar * boolean\n",
        "    return (ans_dot,)\n",
        "\n",
        "\n",
        "clip_with_grad.defvjp(clip_with_grad_fwd, clip_with_grad_bwd)\n",
        "\n",
        "\n",
        "def resample(input, size, align_corners=True):\n",
        "    return jax.image.resize(input, size, method=\"bicubic\")\n",
        "\n",
        "\n",
        "def random_resized_crop(img, rng, shape, n_subimg):\n",
        "    sideY, sideX = img.shape[2:4]\n",
        "    max_size = min(sideX, sideY)\n",
        "    min_size = min(sideX, sideY, shape[0])\n",
        "    cutouts = []\n",
        "    metrics = {}\n",
        "\n",
        "    for j in range(n_subimg):\n",
        "        rng, subrng = jax.random.split(rng)\n",
        "        size = int(\n",
        "            jax.random.randint(subrng, shape=(1,), minval=0, maxval=1.0) * (max_size - min_size) + min_size\n",
        "        )  # **self.cut_pow\n",
        "\n",
        "        rng, subrng = jax.random.split(rng)\n",
        "        offsetx = int(jax.random.randint(subrng, shape=(1,), minval=0, maxval=sideX - size + 1))\n",
        "\n",
        "        rng, subrng = jax.random.split(rng)\n",
        "        offsety = int(jax.random.randint(subrng, shape=(1,), minval=0, maxval=sideY - size + 1))\n",
        "        cutout = img[:, :, offsety : offsety + size, offsetx : offsetx + size]\n",
        "\n",
        "        tmp_img = np.moveaxis(np.asarray((cutout[0] * 255).astype(np.uint8)), 0, -1)\n",
        "        image = Image.fromarray(tmp_img)\n",
        "\n",
        "        # resize\n",
        "        final_shape = img.shape\n",
        "        final_shape = jax.ops.index_update(final_shape, jax.ops.index[-2], shape[0])\n",
        "        final_shape = jax.ops.index_update(final_shape, jax.ops.index[-1], shape[1])\n",
        "        cutout = resample(cutout, final_shape)\n",
        "        cutouts.append(cutout)\n",
        "\n",
        "        # tmp show cutouts\n",
        "        tmp_img = np.moveaxis(np.asarray((cutout[0] * 255).astype(np.uint8)), 0, -1)\n",
        "        image = Image.fromarray(tmp_img)\n",
        "        metrics[f\"cutout {j}\"] = wandb.Image(image)\n",
        "\n",
        "    imgs_stacked = jnp.concatenate(cutouts, axis=0)\n",
        "    return clip_with_grad(imgs_stacked), metrics\n",
        "\n",
        "\n",
        "def train_step(rng, state, batch, n_subimg):\n",
        "    def loss_fn(params, rng):  # rng not used yet\n",
        "        def straight_through_quantize(x):\n",
        "            return x + jax.lax.stop_gradient(model.quantize(x)[0] - x)\n",
        "\n",
        "        z_latent_q = straight_through_quantize(params)\n",
        "        output_vqgan_decoder = clip_with_grad((model.decode(z_latent_q) + 1) / 2)  # deterministic ??\n",
        "\n",
        "        output_vqgan_decoder_reshaped = jnp.moveaxis(\n",
        "            output_vqgan_decoder, (2, 1), (3, 2)\n",
        "        )\n",
        "\n",
        "        rng, subrng = jax.random.split(rng)\n",
        "        imgs_stacked, metrics = random_resized_crop(\n",
        "            output_vqgan_decoder_reshaped, subrng, shape=(cut_size, cut_size), n_subimg=n_subimg\n",
        "        )\n",
        "\n",
        "        outputs = perceptor(pixel_values=imgs_stacked, **batch)\n",
        "        embed_img = jnp.expand_dims(outputs.image_embeds, axis=1)\n",
        "        embed_txt = jnp.expand_dims(outputs.text_embeds, axis=0)\n",
        "        dists = jnp.add(embed_img, -embed_txt)\n",
        "        dists = jax.numpy.linalg.norm(dists, ord=2, axis=2)\n",
        "        dists = jnp.arcsin(dists / 2) ** 2 * 2\n",
        "        loss = dists.mean()\n",
        "        # loss = jnp.mean(outputs.logits_per_text)\n",
        "        return loss, (output_vqgan_decoder, metrics)\n",
        "\n",
        "    rng, subrng = jax.random.split(rng)\n",
        "    grad_fn = jax.value_and_grad(loss_fn, has_aux=True)\n",
        "    (loss, (output_vqgan_decoder, metrics)), grad = grad_fn(state.params, subrng)\n",
        "\n",
        "    new_state = state.apply_gradients(grads=grad)\n",
        "\n",
        "    image = Image.fromarray(np.asarray((output_vqgan_decoder[0] * 255).astype(np.uint8)))\n",
        "\n",
        "    metrics.update({\"loss\": np.array(loss), \"step\": state.step, \"image\": wandb.Image(image)})\n",
        "\n",
        "    return new_state, metrics\n",
        "\n",
        "\n",
        "if args.seed is not None:\n",
        "    rng = jax.random.PRNGKey(args.seed)\n",
        "else:\n",
        "    rng = jax.random.PRNGKey(0)\n",
        "\n",
        "rng, subrng = jax.random.split(rng)\n",
        "one_hot = jax.nn.one_hot(jax.random.randint(subrng, [toksY * toksX], 0, n_toks), n_toks)\n",
        "z = jnp.matmul(one_hot, model.params[\"quantize\"][\"embedding\"][\"embedding\"])\n",
        "z = jnp.reshape(z, (-1, toksY, toksX, e_dim))\n",
        "\n",
        "z_orig = z.clone()\n",
        "tx = optax.adam(args.step_size)\n",
        "\n",
        "state = TrainState.create(params=z, tx=tx)\n",
        "\n",
        "i = 0\n",
        "try:\n",
        "    train_time = 0\n",
        "    while i < 10000:\n",
        "        i += 1\n",
        "        # ======================== Training ================================\n",
        "        # train_start = time.time()\n",
        "\n",
        "        rng, subrng = jax.random.split(rng)\n",
        "        state, train_metric = train_step(subrng, state, inputs, args.cutn)\n",
        "\n",
        "        # train_time += time.time() - train_start\n",
        "\n",
        "        # trick\n",
        "        # state.replace(params= jnp.clip(state.params, a_min=z_min, a_max=z_max))\n",
        "\n",
        "        # Save metrics\n",
        "        if jax.process_index() == 0:\n",
        "            wandb.log(train_metric)\n",
        "except KeyboardInterrupt:\n",
        "    pass\n"
      ],
      "outputs": [],
      "metadata": {
        "id": "zq07heGLf9nr"
      }
    }
  ]
}